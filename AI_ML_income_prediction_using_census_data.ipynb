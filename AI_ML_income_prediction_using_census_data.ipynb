{
  "nbformat": 4,
  "nbformat_minor": 0,
  "metadata": {
    "colab": {
      "provenance": [],
      "private_outputs": true,
      "toc_visible": true
    },
    "kernelspec": {
      "name": "python3",
      "display_name": "Python 3"
    },
    "language_info": {
      "name": "python"
    },
    "accelerator": "GPU",
    "gpuClass": "standard"
  },
  "cells": [
    {
      "cell_type": "code",
      "source": [
        "!pip3 install keras-visualizer\n",
        "!pip3 install livelossplot"
      ],
      "metadata": {
        "id": "H3A9y0TNZVWg"
      },
      "execution_count": null,
      "outputs": []
    },
    {
      "cell_type": "code",
      "execution_count": null,
      "metadata": {
        "id": "uw_WrAWwYx35"
      },
      "outputs": [],
      "source": [
        "import pandas as pd\n",
        "import numpy as np\n",
        "import matplotlib as plt\n",
        "import pickle\n",
        "\n",
        "from google.colab import drive\n",
        "\n",
        "from sklearn.impute import SimpleImputer\n",
        "from sklearn.preprocessing import LabelEncoder, StandardScaler\n",
        "from sklearn.model_selection import train_test_split,GridSearchCV\n",
        "from sklearn.metrics import accuracy_score\n",
        "from sklearn.metrics import classification_report\n",
        "\n",
        "\n",
        "from sklearn.pipeline import Pipeline\n",
        "from tensorflow.keras.wrappers.scikit_learn import KerasClassifier\n",
        "\n",
        "from IPython.display import Image\n",
        "from livelossplot import PlotLossesKeras\n",
        "\n",
        "import tensorflow as tf\n",
        "from tensorflow.keras import Sequential,models,layers\n",
        "from tensorflow.keras.layers import Dense,Conv2D,MaxPool2D,Flatten,Activation\n",
        "from keras_visualizer import visualizer "
      ]
    },
    {
      "cell_type": "code",
      "source": [
        "drive.mount('/content/drive')"
      ],
      "metadata": {
        "id": "RHnckRaBafBo"
      },
      "execution_count": null,
      "outputs": []
    },
    {
      "cell_type": "code",
      "source": [
        "dataset = '/content/drive/MyDrive/Colab Notebooks/dataset/adult.csv'\n",
        "headers = ['age', \t'workclass' , \t'education' ,\t'marital.status' ,\t'occupation', \t'sex' ,\t'hours.per.week' ,\t'native.country', \t'income']\n",
        "ds = pd.read_csv(dataset , usecols=headers)\n",
        "ds.head()"
      ],
      "metadata": {
        "id": "mxYiX0gra9PA"
      },
      "execution_count": null,
      "outputs": []
    },
    {
      "cell_type": "markdown",
      "source": [
        "Fix missing data"
      ],
      "metadata": {
        "id": "rqoOluCFbSjp"
      }
    },
    {
      "cell_type": "code",
      "source": [
        "# print(ds[ds == '?'].value_counts())"
      ],
      "metadata": {
        "id": "k-POfjY49hsb"
      },
      "execution_count": null,
      "outputs": []
    },
    {
      "cell_type": "code",
      "source": [
        "imputer = SimpleImputer(missing_values='?', strategy='most_frequent')\n",
        "imputer = imputer.fit(ds)\n",
        "imputedataset = imputer.transform(ds)\n",
        "\n",
        "df = pd.DataFrame(imputedataset,columns=headers).astype(ds.dtypes.to_dict())\n",
        "df.head()"
      ],
      "metadata": {
        "id": "cIU_ovUAbgfs"
      },
      "execution_count": null,
      "outputs": []
    },
    {
      "cell_type": "markdown",
      "source": [
        "Fix Bias"
      ],
      "metadata": {
        "id": "Md_J50vGbnSx"
      }
    },
    {
      "cell_type": "code",
      "source": [
        "print(df['income'].value_counts())\n",
        "print('ratio:',df['income'].value_counts()[0] / df['income'].value_counts()[1])"
      ],
      "metadata": {
        "id": "EngfLxH13xOZ"
      },
      "execution_count": null,
      "outputs": []
    },
    {
      "cell_type": "code",
      "source": [
        "data_sel =  df[df['income'] == '>50K']\n",
        "new_df = pd.concat([data_sel] * 3,ignore_index=True)\n",
        "\n",
        "df = new_df.append(df[df['income'] == '<=50K'],ignore_index=True)"
      ],
      "metadata": {
        "id": "AG8ASYBS7WEs"
      },
      "execution_count": null,
      "outputs": []
    },
    {
      "cell_type": "code",
      "source": [
        "print(df['income'].value_counts())\n",
        "# print('ratio:',new_df['income'].value_counts()[0] / new_df['income'].value_counts()[0])"
      ],
      "metadata": {
        "id": "sZuH-hhL8GxV"
      },
      "execution_count": null,
      "outputs": []
    },
    {
      "cell_type": "code",
      "source": [
        "df.info()"
      ],
      "metadata": {
        "id": "m12y0m9U-5_A"
      },
      "execution_count": null,
      "outputs": []
    },
    {
      "cell_type": "markdown",
      "source": [
        "LabelEncode on categoriacal data"
      ],
      "metadata": {
        "id": "Pp7di98t-uu5"
      }
    },
    {
      "cell_type": "code",
      "source": [
        "le = LabelEncoder()\n",
        "\n",
        "for columns in df.columns[df.dtypes == 'object']:\n",
        "  df[columns] = le.fit_transform(df[columns])\n"
      ],
      "metadata": {
        "id": "Eetm1M3c-xmx"
      },
      "execution_count": null,
      "outputs": []
    },
    {
      "cell_type": "code",
      "source": [
        "df.head()"
      ],
      "metadata": {
        "id": "zkazZjaa_f7j"
      },
      "execution_count": null,
      "outputs": []
    },
    {
      "cell_type": "markdown",
      "source": [
        "X Y separate and traintest split"
      ],
      "metadata": {
        "id": "2pf0eGEV_kvT"
      }
    },
    {
      "cell_type": "code",
      "source": [
        "x_data = df.drop(columns=['income'])\n",
        "y_data = df['income']"
      ],
      "metadata": {
        "id": "Ag2m27-F_nd6"
      },
      "execution_count": null,
      "outputs": []
    },
    {
      "cell_type": "code",
      "source": [
        "x_data"
      ],
      "metadata": {
        "id": "0Q-GEXy8AE2Z"
      },
      "execution_count": null,
      "outputs": []
    },
    {
      "cell_type": "code",
      "source": [
        "y_data"
      ],
      "metadata": {
        "id": "uJ0XoAJeAGrM"
      },
      "execution_count": null,
      "outputs": []
    },
    {
      "cell_type": "code",
      "source": [
        "x_data = np.array(x_data)\n",
        "y_data = np.array(y_data)"
      ],
      "metadata": {
        "id": "iM1x5oE0AOUx"
      },
      "execution_count": null,
      "outputs": []
    },
    {
      "cell_type": "code",
      "source": [
        "x_data"
      ],
      "metadata": {
        "id": "Kt7bIkwgAaQu"
      },
      "execution_count": null,
      "outputs": []
    },
    {
      "cell_type": "code",
      "source": [
        "y_data"
      ],
      "metadata": {
        "id": "QnhRE7UGAbtM"
      },
      "execution_count": null,
      "outputs": []
    },
    {
      "cell_type": "code",
      "source": [
        "x_train,x_test,y_train,y_test = train_test_split(x_data,y_data,test_size=.33,random_state=1)"
      ],
      "metadata": {
        "id": "M1iaIfruAdU4"
      },
      "execution_count": null,
      "outputs": []
    },
    {
      "cell_type": "markdown",
      "source": [
        "Scale data"
      ],
      "metadata": {
        "id": "NklIyGNSDVII"
      }
    },
    {
      "cell_type": "code",
      "source": [
        "# scale = StandardScaler()\n",
        "# x_train = scale.fit_transform(x_train)\n",
        "# x_test = scale.fit_transform(x_test)"
      ],
      "metadata": {
        "id": "lJUZLnGiDU1H"
      },
      "execution_count": null,
      "outputs": []
    },
    {
      "cell_type": "markdown",
      "source": [
        "Artifical intelligence "
      ],
      "metadata": {
        "id": "dB8VHCS7BFjo"
      }
    },
    {
      "cell_type": "code",
      "source": [
        "# Define the model\n",
        "def build_model(optimizer='adam'):\n",
        "  model = Sequential()\n",
        "  model.add(Dense(64, input_dim=x_train.shape[1], activation='relu'))\n",
        "  model.add(Dense(32, activation='relu'))\n",
        "  model.add(Dense(1, activation='sigmoid'))\n",
        "  model.compile(optimizer=optimizer, loss='binary_crossentropy', metrics=['accuracy'])\n",
        "  return model\n",
        "\n",
        "# Create a pipeline to scale the data and build the model\n",
        "pipeline = Pipeline([\n",
        "  ('scaler', StandardScaler()),\n",
        "  ('model', KerasClassifier(build_fn=build_model, epochs=20, batch_size=32, verbose=3))\n",
        "])\n",
        "\n",
        "# Define the grid search parameters\n",
        "param_grid = {\n",
        "  'model__optimizer': ['adam', 'sgd']\n",
        "}\n",
        "\n",
        "# Create the grid search object\n",
        "grid_search = GridSearchCV(pipeline, param_grid, cv=10, verbose=2)\n",
        "\n",
        "# Fit the grid search object to the training data\n",
        "grid_search.fit(x_train, y_train)\n"
      ],
      "metadata": {
        "id": "xqLR4ifHeLMa"
      },
      "execution_count": null,
      "outputs": []
    },
    {
      "cell_type": "code",
      "source": [
        "print(f'Best estimator: {grid_search.best_estimator_}')\n",
        "print(f'Best parameters: {grid_search.best_params_}')\n",
        "print(f'Best score: {grid_search.best_score_:.3f}')"
      ],
      "metadata": {
        "id": "SEr62_5Y1cls"
      },
      "execution_count": null,
      "outputs": []
    },
    {
      "cell_type": "code",
      "source": [
        "# y_pred = grid_search\n",
        "grid_search.score(x_test,y_test)"
      ],
      "metadata": {
        "id": "z0qcSNq04hgo"
      },
      "execution_count": null,
      "outputs": []
    },
    {
      "cell_type": "code",
      "source": [
        "best_prediction = grid_search.predict(x_test)"
      ],
      "metadata": {
        "id": "AFYHAR-y5pWV"
      },
      "execution_count": null,
      "outputs": []
    },
    {
      "cell_type": "code",
      "source": [
        "print(classification_report(y_test,best_prediction))"
      ],
      "metadata": {
        "id": "2uobj2Eu5wM-"
      },
      "execution_count": null,
      "outputs": []
    },
    {
      "cell_type": "markdown",
      "source": [
        "PREDICTION"
      ],
      "metadata": {
        "id": "zCbiDATB6nTG"
      }
    },
    {
      "cell_type": "code",
      "source": [
        "inputdata = np.array([[90,'Private', '12th' , 'Never-married' , 'Armed-Forces' , 'Male', 60, 'India', '>50k']])\n",
        "inputhead = ['age','workclass','education','marital.status','occupation','sex','hours.per.week','native.country','income']\n",
        "\n",
        "dict = {\n",
        "    'age': int,\n",
        "    'workclass':str,\n",
        "    'education':str,\n",
        "    'marital.status':str,\n",
        "    'occupation':str,\n",
        "    'sex':str,\n",
        "    'hours.per.week':int,\n",
        "    'native.country':str\n",
        "}\n",
        "\n",
        "testdataframe = pd.DataFrame(inputdata,columns=inputhead).astype(dict)\n",
        "testdataframe.head()"
      ],
      "metadata": {
        "id": "K_uJtjWhCR3V"
      },
      "execution_count": null,
      "outputs": []
    },
    {
      "cell_type": "code",
      "source": [
        "# for columns in testdataframe.columns[testdataframe.dtypes == 'object']:\n",
        "#   testdataframe[columns] = le.transform(testdataframe[columns])\n",
        "enc = pickle.load(open('/content/drive/MyDrive/Colab Notebooks/labelencoeder.pkl', \"rb\"))\n",
        "testdataframe['workclass'] = enc.transform(testdataframe['workclass'])\n",
        "testdataframe.head()"
      ],
      "metadata": {
        "id": "u9g4Soh-JoXr"
      },
      "execution_count": null,
      "outputs": []
    },
    {
      "cell_type": "code",
      "source": [
        "grid_search.predict(x_test)"
      ],
      "metadata": {
        "id": "Few1uvBU6D4T"
      },
      "execution_count": null,
      "outputs": []
    },
    {
      "cell_type": "markdown",
      "source": [
        "save"
      ],
      "metadata": {
        "id": "lOffjWVe361X"
      }
    },
    {
      "cell_type": "code",
      "source": [
        "pickle.dump(le,open(\"/content/drive/MyDrive/Colab Notebooks/labelencoeder.pkl\", \"wb\"))\n",
        "pickle.dump(pipeline,open(\"/content/drive/MyDrive/Colab Notebooks/pipeline.pkl\", \"wb\"))\n",
        "pickle.dump(grid_search,open(\"/content/drive/MyDrive/Colab Notebooks/grid_search.pkl\", \"wb\"))\n",
        "\n",
        "pickle.dump(grid_search,open(\"/content/drive/MyDrive/Colab Notebooks/actual_model.pkl\", \"wb\"))"
      ],
      "metadata": {
        "id": "e6rXoRIP7AHR"
      },
      "execution_count": null,
      "outputs": []
    }
  ]
}